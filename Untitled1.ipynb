{
  "nbformat": 4,
  "nbformat_minor": 0,
  "metadata": {
    "colab": {
      "provenance": [],
      "mount_file_id": "10xE34mqEb7I8CMcl3iuMEhsxqAY0auTw",
      "authorship_tag": "ABX9TyPVas4snkvaSSuzSVey48Sz",
      "include_colab_link": true
    },
    "kernelspec": {
      "name": "python3",
      "display_name": "Python 3"
    },
    "language_info": {
      "name": "python"
    }
  },
  "cells": [
    {
      "cell_type": "markdown",
      "metadata": {
        "id": "view-in-github",
        "colab_type": "text"
      },
      "source": [
        "<a href=\"https://colab.research.google.com/github/AliAyman22/Data-Structure/blob/main/Untitled1.ipynb\" target=\"_parent\"><img src=\"https://colab.research.google.com/assets/colab-badge.svg\" alt=\"Open In Colab\"/></a>"
      ]
    },
    {
      "cell_type": "code",
      "source": [
        "import pandas as pd\n",
        "from sklearn.model_selection import train_test_split\n",
        "from sklearn.preprocessing import StandardScaler\n",
        "from sklearn.naive_bayes import GaussianNB\n",
        "from sklearn.neighbors import KNeighborsClassifier\n",
        "from sklearn.metrics import accuracy_score, precision_score, recall_score, f1_score\n",
        "\n"
      ],
      "metadata": {
        "id": "d-rtusS5PvxP"
      },
      "execution_count": 8,
      "outputs": []
    },
    {
      "cell_type": "code",
      "source": [
        "# Load the dataset\n",
        "df = pd.read_csv('/content/drive/MyDrive/archive.zip')\n",
        "\n",
        "# Get number of instances and features\n",
        "num_instances, num_features = df.shape\n",
        "print(\"Number of instances:\", num_instances)\n",
        "print(\"Number of features:\", num_features - 1) # Subtract 1 for the target variable\n",
        "\n",
        "# Get data types of each column\n",
        "print(\"Data types:\")\n",
        "print(df.dtypes)\n"
      ],
      "metadata": {
        "colab": {
          "base_uri": "https://localhost:8080/"
        },
        "id": "I8menYL_FCmo",
        "outputId": "5cb0e4ba-9544-4419-dc87-6423a8046ed5"
      },
      "execution_count": 9,
      "outputs": [
        {
          "output_type": "stream",
          "name": "stdout",
          "text": [
            "Number of instances: 284807\n",
            "Number of features: 30\n",
            "Data types:\n",
            "Time      float64\n",
            "V1        float64\n",
            "V2        float64\n",
            "V3        float64\n",
            "V4        float64\n",
            "V5        float64\n",
            "V6        float64\n",
            "V7        float64\n",
            "V8        float64\n",
            "V9        float64\n",
            "V10       float64\n",
            "V11       float64\n",
            "V12       float64\n",
            "V13       float64\n",
            "V14       float64\n",
            "V15       float64\n",
            "V16       float64\n",
            "V17       float64\n",
            "V18       float64\n",
            "V19       float64\n",
            "V20       float64\n",
            "V21       float64\n",
            "V22       float64\n",
            "V23       float64\n",
            "V24       float64\n",
            "V25       float64\n",
            "V26       float64\n",
            "V27       float64\n",
            "V28       float64\n",
            "Amount    float64\n",
            "Class       int64\n",
            "dtype: object\n"
          ]
        }
      ]
    },
    {
      "cell_type": "code",
      "source": [
        "# Split the dataset into features and labels\n",
        "X = df.iloc[:, :-1]\n",
        "y = df.iloc[:, -1]\n",
        "\n",
        "# Split the dataset into training and testing sets\n",
        "X_train, X_test, y_train, y_test = train_test_split(X, y, test_size=0.2, random_state=42)\n",
        "\n",
        "# Scale the features using StandardScaler\n",
        "scaler = StandardScaler()\n",
        "X_train = scaler.fit_transform(X_train)\n",
        "X_test = scaler.transform(X_test)\n",
        "\n",
        "# Replace missing values with the mean value of the feature\n",
        "df[df.columns[:-1]] = df[df.columns[:-1]].replace(0, df[df.columns[:-1]].mean())\n",
        "\n",
        "# Print the encoded dataset\n",
        "print(df.head())\n"
      ],
      "metadata": {
        "colab": {
          "base_uri": "https://localhost:8080/"
        },
        "id": "2dX0_qRtFYAX",
        "outputId": "0f5865c0-a1c5-410c-afb6-4e100195b8ad"
      },
      "execution_count": null,
      "outputs": [
        {
          "output_type": "stream",
          "name": "stdout",
          "text": [
            "           Time        V1        V2        V3        V4        V5        V6  \\\n",
            "0  94813.859575 -1.359807 -0.072781  2.536347  1.378155 -0.338321  0.462388   \n",
            "1  94813.859575  1.191857  0.266151  0.166480  0.448154  0.060018 -0.082361   \n",
            "2      1.000000 -1.358354 -1.340163  1.773209  0.379780 -0.503198  1.800499   \n",
            "3      1.000000 -0.966272 -0.185226  1.792993 -0.863291 -0.010309  1.247203   \n",
            "4      2.000000 -1.158233  0.877737  1.548718  0.403034 -0.407193  0.095921   \n",
            "\n",
            "         V7        V8        V9  ...       V21       V22       V23       V24  \\\n",
            "0  0.239599  0.098698  0.363787  ... -0.018307  0.277838 -0.110474  0.066928   \n",
            "1 -0.078803  0.085102 -0.255425  ... -0.225775 -0.638672  0.101288 -0.339846   \n",
            "2  0.791461  0.247676 -1.514654  ...  0.247998  0.771679  0.909412 -0.689281   \n",
            "3  0.237609  0.377436 -1.387024  ... -0.108300  0.005274 -0.190321 -1.175575   \n",
            "4  0.592941 -0.270533  0.817739  ... -0.009431  0.798278 -0.137458  0.141267   \n",
            "\n",
            "        V25       V26       V27       V28  Amount  Class  \n",
            "0  0.128539 -0.189115  0.133558 -0.021053  149.62      0  \n",
            "1  0.167170  0.125895 -0.008983  0.014724    2.69      0  \n",
            "2 -0.327642 -0.139097 -0.055353 -0.059752  378.66      0  \n",
            "3  0.647376 -0.221929  0.062723  0.061458  123.50      0  \n",
            "4 -0.206010  0.502292  0.219422  0.215153   69.99      0  \n",
            "\n",
            "[5 rows x 31 columns]\n"
          ]
        }
      ]
    },
    {
      "cell_type": "code",
      "source": [
        "\n",
        "# Train a Naive Bayes model\n",
        "nb_model = GaussianNB()\n",
        "nb_model.fit(X_train, y_train)\n",
        "\n",
        "# Train a KNN model\n",
        "knn_model = KNeighborsClassifier()\n",
        "knn_model.fit(X_train, y_train)\n",
        "\n",
        "# Test the Naive Bayes model\n",
        "nb_pred = nb_model.predict(X_test)\n",
        "nb_accuracy = accuracy_score(y_test, nb_pred)\n",
        "nb_precision = precision_score(y_test, nb_pred)\n",
        "nb_recall = recall_score(y_test, nb_pred)\n",
        "nb_f1_score = f1_score(y_test, nb_pred)\n",
        "\n",
        "print(\"Naive Bayes Model Results:\")\n",
        "print(f\"Accuracy: {nb_accuracy}\")\n",
        "print(f\"Precision: {nb_precision}\")\n",
        "print(f\"Recall: {nb_recall}\")\n",
        "print(f\"F1-score: {nb_f1_score}\")\n",
        "\n",
        "# Test the KNN model\n",
        "knn_pred = knn_model.predict(X_test)\n",
        "knn_accuracy = accuracy_score(y_test, knn_pred)\n",
        "knn_precision = precision_score(y_test, knn_pred)\n",
        "knn_recall = recall_score(y_test, knn_pred)\n",
        "knn_f1_score = f1_score(y_test, knn_pred)\n",
        "\n",
        "print(\"KNN Model Results:\")\n",
        "print(f\"Accuracy: {knn_accuracy}\")\n",
        "print(f\"Precision: {knn_precision}\")\n",
        "print(f\"Recall: {knn_recall}\")\n",
        "print(f\"F1-score: {knn_f1_score}\")"
      ],
      "metadata": {
        "colab": {
          "base_uri": "https://localhost:8080/"
        },
        "id": "EZ4xzVLRGc8S",
        "outputId": "0a9a6457-fbb5-49d8-caf2-8bebbe8af86f"
      },
      "execution_count": null,
      "outputs": [
        {
          "output_type": "stream",
          "name": "stdout",
          "text": [
            "Naive Bayes Model Results:\n",
            "Accuracy: 0.9778273234788104\n",
            "Precision: 0.06037735849056604\n",
            "Recall: 0.8163265306122449\n",
            "F1-score: 0.11243851018973998\n",
            "KNN Model Results:\n",
            "Accuracy: 0.9995259997893332\n",
            "Precision: 0.9382716049382716\n",
            "Recall: 0.7755102040816326\n",
            "F1-score: 0.8491620111731844\n"
          ]
        }
      ]
    }
  ]
}