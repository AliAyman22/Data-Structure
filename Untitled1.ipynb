{
  "nbformat": 4,
  "nbformat_minor": 0,
  "metadata": {
    "colab": {
      "provenance": [],
      "mount_file_id": "10xE34mqEb7I8CMcl3iuMEhsxqAY0auTw",
      "authorship_tag": "ABX9TyPUQTwZRb9gSBU9Mg0k7A+G",
      "include_colab_link": true
    },
    "kernelspec": {
      "name": "python3",
      "display_name": "Python 3"
    },
    "language_info": {
      "name": "python"
    }
  },
  "cells": [
    {
      "cell_type": "markdown",
      "metadata": {
        "id": "view-in-github",
        "colab_type": "text"
      },
      "source": [
        "<a href=\"https://colab.research.google.com/github/AliAyman22/Data-Structure/blob/main/Untitled1.ipynb\" target=\"_parent\"><img src=\"https://colab.research.google.com/assets/colab-badge.svg\" alt=\"Open In Colab\"/></a>"
      ]
    },
    {
      "cell_type": "code",
      "source": [
        "import pandas as pd\n",
        "from sklearn.model_selection import train_test_split\n",
        "from sklearn.preprocessing import StandardScaler\n",
        "from sklearn.naive_bayes import GaussianNB\n",
        "from sklearn.neighbors import KNeighborsClassifier\n",
        "from sklearn.metrics import accuracy_score, precision_score, recall_score, f1_score\n",
        "\n",
        "# Load the dataset\n",
        "df = pd.read_csv('/content/drive/MyDrive/archive.zip')\n",
        "\n",
        "# Split the dataset into features and labels\n",
        "X = df.iloc[:, :-1]\n",
        "y = df.iloc[:, -1]\n",
        "\n",
        "# Split the dataset into training and testing sets\n",
        "X_train, X_test, y_train, y_test = train_test_split(X, y, test_size=0.2, random_state=42)\n",
        "\n",
        "# Scale the features using StandardScaler\n",
        "scaler = StandardScaler()\n",
        "X_train = scaler.fit_transform(X_train)\n",
        "X_test = scaler.transform(X_test)\n",
        "\n",
        "# Train a Naive Bayes model\n",
        "nb_model = GaussianNB()\n",
        "nb_model.fit(X_train, y_train)\n",
        "\n",
        "# Train a KNN model\n",
        "knn_model = KNeighborsClassifier()\n",
        "knn_model.fit(X_train, y_train)\n",
        "\n",
        "# Test the Naive Bayes model\n",
        "nb_pred = nb_model.predict(X_test)\n",
        "nb_accuracy = accuracy_score(y_test, nb_pred)\n",
        "nb_precision = precision_score(y_test, nb_pred)\n",
        "nb_recall = recall_score(y_test, nb_pred)\n",
        "nb_f1_score = f1_score(y_test, nb_pred)\n",
        "\n",
        "print(\"Naive Bayes Model Results:\")\n",
        "print(f\"Accuracy: {nb_accuracy}\")\n",
        "print(f\"Precision: {nb_precision}\")\n",
        "print(f\"Recall: {nb_recall}\")\n",
        "print(f\"F1-score: {nb_f1_score}\")\n",
        "\n",
        "# Test the KNN model\n",
        "knn_pred = knn_model.predict(X_test)\n",
        "knn_accuracy = accuracy_score(y_test, knn_pred)\n",
        "knn_precision = precision_score(y_test, knn_pred)\n",
        "knn_recall = recall_score(y_test, knn_pred)\n",
        "knn_f1_score = f1_score(y_test, knn_pred)\n",
        "\n",
        "print(\"KNN Model Results:\")\n",
        "print(f\"Accuracy: {knn_accuracy}\")\n",
        "print(f\"Precision: {knn_precision}\")\n",
        "print(f\"Recall: {knn_recall}\")\n",
        "print(f\"F1-score: {knn_f1_score}\")\n"
      ],
      "metadata": {
        "colab": {
          "base_uri": "https://localhost:8080/"
        },
        "id": "d-rtusS5PvxP",
        "outputId": "5018bd20-3a45-47c9-81d4-2460cc1c8aae"
      },
      "execution_count": 16,
      "outputs": [
        {
          "output_type": "stream",
          "name": "stdout",
          "text": [
            "Naive Bayes Model Results:\n",
            "Accuracy: 0.9778273234788104\n",
            "Precision: 0.06037735849056604\n",
            "Recall: 0.8163265306122449\n",
            "F1-score: 0.11243851018973998\n",
            "KNN Model Results:\n",
            "Accuracy: 0.9995259997893332\n",
            "Precision: 0.9382716049382716\n",
            "Recall: 0.7755102040816326\n",
            "F1-score: 0.8491620111731844\n"
          ]
        }
      ]
    }
  ]
}