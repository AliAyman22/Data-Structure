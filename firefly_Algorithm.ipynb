{
  "nbformat": 4,
  "nbformat_minor": 0,
  "metadata": {
    "colab": {
      "provenance": [],
      "authorship_tag": "ABX9TyOphhu5o9hOWTGQU0Jr4bpE",
      "include_colab_link": true
    },
    "kernelspec": {
      "name": "python3",
      "display_name": "Python 3"
    },
    "language_info": {
      "name": "python"
    }
  },
  "cells": [
    {
      "cell_type": "markdown",
      "metadata": {
        "id": "view-in-github",
        "colab_type": "text"
      },
      "source": [
        "<a href=\"https://colab.research.google.com/github/AliAyman22/Data-Structure/blob/main/firefly_Algorithm.ipynb\" target=\"_parent\"><img src=\"https://colab.research.google.com/assets/colab-badge.svg\" alt=\"Open In Colab\"/></a>"
      ]
    },
    {
      "cell_type": "code",
      "execution_count": 4,
      "metadata": {
        "id": "3fcU0_Sou9dy"
      },
      "outputs": [],
      "source": [
        "import numpy as np\n",
        "import random\n",
        "\n",
        "def calculate_distance_matrix(locations):\n",
        "    num_locations = len(locations)\n",
        "    distance_matrix = np.zeros((num_locations, num_locations))\n",
        "\n",
        "    for i in range(num_locations):\n",
        "        for j in range(num_locations):\n",
        "            distance = np.linalg.norm(locations[i] - locations[j])\n",
        "            distance_matrix[i, j] = distance\n",
        "\n",
        "    return distance_matrix\n",
        "\n",
        "def initialize_fireflies(num_fireflies, num_locations):\n",
        "    return [random.sample(range(num_locations), num_locations) for _ in range(num_fireflies)]\n",
        "\n",
        "def objective_function(firefly, distance_matrix):\n",
        "    num_locations = len(firefly)\n",
        "    distance = 0\n",
        "\n",
        "    for i in range(num_locations - 1):\n",
        "        distance += distance_matrix[firefly[i], firefly[i + 1]]\n",
        "\n",
        "    distance += distance_matrix[firefly[-1], firefly[0]]\n",
        "    return distance\n",
        "\n",
        "def attractiveness(beta0, r):\n",
        "    return beta0 * np.exp(-r)\n",
        "\n",
        "def move_fireflies(alpha, beta0, gamma, fireflies, distance_matrix):\n",
        "    num_fireflies = len(fireflies)\n",
        "    num_locations = len(fireflies[0])\n",
        "\n",
        "    for i in range(num_fireflies):\n",
        "        for j in range(num_fireflies):\n",
        "            if objective_function(fireflies[i], distance_matrix) > objective_function(fireflies[j], distance_matrix):\n",
        "                r = np.linalg.norm(np.array(fireflies[i]) - np.array(fireflies[j]))\n",
        "                beta = attractiveness(beta0, r)\n",
        "                fireflies[i] = fireflies[i].copy()\n",
        "                k = random.randint(0, num_locations - 1)\n",
        "                fireflies[i][k] = fireflies[i][k] + beta * (fireflies[j][k] - fireflies[i][k]) + alpha * (np.random.uniform() - 0.5)\n",
        "                fireflies[i] = np.clip(fireflies[i], 0, num_locations - 1)\n",
        "\n",
        "    return fireflies\n",
        "\n",
        "def firefly_algorithm(num_fireflies, num_locations, distance_matrix, alpha=0.2, beta0=1.0, gamma=0.1, max_iter=100):\n",
        "    fireflies = initialize_fireflies(num_fireflies, num_locations)\n",
        "\n",
        "    for _ in range(max_iter):\n",
        "        fireflies = move_fireflies(alpha, beta0, gamma, fireflies, distance_matrix)\n",
        "\n",
        "    best_firefly = fireflies[np.argmin([objective_function(firefly, distance_matrix) for firefly in fireflies])]\n",
        "    best_fitness = objective_function(best_firefly, distance_matrix)\n",
        "\n",
        "    return best_firefly, best_fitness\n",
        "\n",
        "# Example usage with TSP dataset\n",
        "locations = np.array([[565.0, 575.0], [25.0, 185.0], [345.0, 750.0], [945.0, 685.0], [845.0, 655.0], [880.0, 660.0],\n",
        "                     [25.0, 230.0], [525.0, 1000.0], [580.0, 1175.0], [650.0, 1130.0], [1605.0, 620.0], [1220.0, 580.0],\n",
        "                     [1465.0, 200.0], [1530.0, 5.0], [845.0, 680.0], [725.0, 370.0]])\n"
      ]
    }
  ]
}